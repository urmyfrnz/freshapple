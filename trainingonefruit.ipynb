{
  "nbformat": 4,
  "nbformat_minor": 0,
  "metadata": {
    "colab": {
      "name": "trainingonefruit.ipynb",
      "provenance": [],
      "collapsed_sections": []
    },
    "kernelspec": {
      "name": "python3",
      "display_name": "Python 3"
    }
  },
  "cells": [
    {
      "cell_type": "code",
      "metadata": {
        "id": "cLK_asgo1Y9n",
        "colab": {
          "base_uri": "https://localhost:8080/"
        },
        "outputId": "17072af4-a27d-4c31-8fb4-60d75d79804d"
      },
      "source": [
        "from google.colab import drive\n",
        "drive.mount('/content/gdrive')\n"
      ],
      "execution_count": 33,
      "outputs": [
        {
          "output_type": "stream",
          "text": [
            "Drive already mounted at /content/gdrive; to attempt to forcibly remount, call drive.mount(\"/content/gdrive\", force_remount=True).\n"
          ],
          "name": "stdout"
        }
      ]
    },
    {
      "cell_type": "code",
      "metadata": {
        "id": "TuErrz9w1lUM"
      },
      "source": [
        "import os\n",
        "os.chdir('/content/gdrive/MyDrive/fruit')"
      ],
      "execution_count": 41,
      "outputs": []
    },
    {
      "cell_type": "code",
      "metadata": {
        "id": "w3hhfe0T2XKC"
      },
      "source": [
        "import tensorflow as tf\n",
        "from tensorflow.keras.models import Sequential\n",
        "from tensorflow.keras.layers import Dense, Dropout, Activation, Flatten\n",
        "from tensorflow.keras.layers import Conv2D, MaxPooling2D\n",
        "\n",
        "import pickle\n",
        "\n",
        "pickle_in = open(\"XX.pickle\",\"rb\")\n",
        "X = pickle.load(pickle_in)\n",
        "\n",
        "pickle_in = open(\"yy.pickle\",\"rb\")\n",
        "y = pickle.load(pickle_in)\n"
      ],
      "execution_count": 42,
      "outputs": []
    },
    {
      "cell_type": "code",
      "metadata": {
        "id": "SjMrjMSC2dUk",
        "colab": {
          "base_uri": "https://localhost:8080/"
        },
        "outputId": "8243568b-dd9a-46e6-d522-c5a65028a977"
      },
      "source": [
        "print(len(X)+len(y))"
      ],
      "execution_count": 43,
      "outputs": [
        {
          "output_type": "stream",
          "text": [
            "5452\n"
          ],
          "name": "stdout"
        }
      ]
    },
    {
      "cell_type": "code",
      "metadata": {
        "id": "KS38zXGM2ho5"
      },
      "source": [
        "X = X/255.0"
      ],
      "execution_count": 44,
      "outputs": []
    },
    {
      "cell_type": "code",
      "metadata": {
        "id": "7pSWoP4G2nZS",
        "colab": {
          "base_uri": "https://localhost:8080/"
        },
        "outputId": "801444ea-b236-4569-a7e1-b60669558986"
      },
      "source": [
        "print(X[0])"
      ],
      "execution_count": 45,
      "outputs": [
        {
          "output_type": "stream",
          "text": [
            "[[[0.        ]\n",
            "  [0.        ]\n",
            "  [0.        ]\n",
            "  ...\n",
            "  [0.        ]\n",
            "  [0.        ]\n",
            "  [0.        ]]\n",
            "\n",
            " [[0.        ]\n",
            "  [0.        ]\n",
            "  [0.        ]\n",
            "  ...\n",
            "  [0.        ]\n",
            "  [0.        ]\n",
            "  [0.        ]]\n",
            "\n",
            " [[0.        ]\n",
            "  [0.        ]\n",
            "  [0.        ]\n",
            "  ...\n",
            "  [0.        ]\n",
            "  [0.        ]\n",
            "  [0.        ]]\n",
            "\n",
            " ...\n",
            "\n",
            " [[0.        ]\n",
            "  [0.        ]\n",
            "  [0.        ]\n",
            "  ...\n",
            "  [0.91764706]\n",
            "  [0.92941176]\n",
            "  [0.93333333]]\n",
            "\n",
            " [[0.        ]\n",
            "  [0.        ]\n",
            "  [0.        ]\n",
            "  ...\n",
            "  [0.92156863]\n",
            "  [0.92941176]\n",
            "  [0.9372549 ]]\n",
            "\n",
            " [[0.        ]\n",
            "  [0.        ]\n",
            "  [0.        ]\n",
            "  ...\n",
            "  [0.93333333]\n",
            "  [0.94117647]\n",
            "  [0.95294118]]]\n"
          ],
          "name": "stdout"
        }
      ]
    },
    {
      "cell_type": "code",
      "metadata": {
        "colab": {
          "base_uri": "https://localhost:8080/"
        },
        "id": "pVQaGPRUEZFl",
        "outputId": "d2bb3b38-621a-4188-8f2c-2e99db5222a0"
      },
      "source": [
        "print(y[0])"
      ],
      "execution_count": 46,
      "outputs": [
        {
          "output_type": "stream",
          "text": [
            "0\n"
          ],
          "name": "stdout"
        }
      ]
    },
    {
      "cell_type": "code",
      "metadata": {
        "id": "bH8gOkM62pXZ",
        "colab": {
          "base_uri": "https://localhost:8080/"
        },
        "outputId": "b667af71-04bf-48a2-e380-f70b28ee273d"
      },
      "source": [
        "model = Sequential()\n",
        "\n",
        "model.add(Conv2D(32, (3, 3), input_shape=X.shape[1:]))\n",
        "model.add(Activation('relu'))\n",
        "model.add(MaxPooling2D(pool_size=(2, 2)))\n",
        "\n",
        "model.add(Conv2D(64, (3, 3)))\n",
        "model.add(Activation('relu'))\n",
        "model.add(MaxPooling2D(pool_size=(2, 2)))\n",
        "model.add(Dropout(0.25))\n",
        "\n",
        "model.add(Conv2D(128, (3, 3)))\n",
        "model.add(Activation('relu'))\n",
        "model.add(MaxPooling2D(pool_size=(2, 2)))\n",
        "model.add(Dropout(0.25))\n",
        "\n",
        "\n",
        "model.add(Flatten())  \n",
        "\n",
        "model.add(Dense(128))\n",
        "model.add(Dropout(0.25))\n",
        "\n",
        "model.add(Dense(1))\n",
        "model.add(Activation('sigmoid'))\n",
        "\n",
        "model.compile(loss='binary_crossentropy',\n",
        "              optimizer='adam',\n",
        "              metrics=['accuracy'])\n",
        "\n",
        "model.fit(X, y, batch_size=32, epochs=5, validation_split=0.3)\n",
        "\n"
      ],
      "execution_count": 47,
      "outputs": [
        {
          "output_type": "stream",
          "text": [
            "Epoch 1/5\n",
            "60/60 [==============================] - 8s 125ms/step - loss: 0.6547 - accuracy: 0.6147 - val_loss: 0.4425 - val_accuracy: 0.7738\n",
            "Epoch 2/5\n",
            "60/60 [==============================] - 7s 123ms/step - loss: 0.4265 - accuracy: 0.7862 - val_loss: 0.3778 - val_accuracy: 0.8093\n",
            "Epoch 3/5\n",
            "60/60 [==============================] - 7s 122ms/step - loss: 0.3690 - accuracy: 0.8322 - val_loss: 0.3705 - val_accuracy: 0.8350\n",
            "Epoch 4/5\n",
            "60/60 [==============================] - 7s 122ms/step - loss: 0.3431 - accuracy: 0.8493 - val_loss: 0.3249 - val_accuracy: 0.8496\n",
            "Epoch 5/5\n",
            "60/60 [==============================] - 7s 123ms/step - loss: 0.2967 - accuracy: 0.8628 - val_loss: 0.3212 - val_accuracy: 0.8496\n"
          ],
          "name": "stdout"
        },
        {
          "output_type": "execute_result",
          "data": {
            "text/plain": [
              "<tensorflow.python.keras.callbacks.History at 0x7fcf586a6ed0>"
            ]
          },
          "metadata": {
            "tags": []
          },
          "execution_count": 47
        }
      ]
    },
    {
      "cell_type": "code",
      "metadata": {
        "id": "kfiMhZzh4CLd",
        "colab": {
          "base_uri": "https://localhost:8080/"
        },
        "outputId": "13b3097f-caf5-459d-d22b-ef59cdddaeb1"
      },
      "source": [
        "model.save('onefruit-cnn.model')"
      ],
      "execution_count": 48,
      "outputs": [
        {
          "output_type": "stream",
          "text": [
            "INFO:tensorflow:Assets written to: onefruit-cnn.model/assets\n"
          ],
          "name": "stdout"
        }
      ]
    }
  ]
}